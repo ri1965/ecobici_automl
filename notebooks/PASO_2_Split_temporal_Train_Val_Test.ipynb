{
 "cells": [
  {
   "cell_type": "markdown",
   "id": "56235236",
   "metadata": {},
   "source": [
    "# PASO 2 — Split temporal Train/Val/Test (notebook → script)"
   ]
  },
  {
   "cell_type": "code",
   "execution_count": 2,
   "id": "03a7126b",
   "metadata": {},
   "outputs": [
    {
     "name": "stdout",
     "output_type": "stream",
     "text": [
      "train: 2025-10-03 08:54:25-03:00 → 2025-10-05 22:07:44-03:00 | 152463\n",
      "val:   2025-10-05 22:07:45-03:00 → 2025-10-06 17:00:54-03:00 | 32774\n",
      "test:  2025-10-06 17:00:55-03:00 → 2025-10-06 21:15:28-03:00 | 32712\n"
     ]
    }
   ],
   "source": [
    "import os\n",
    "import pandas as pd\n",
    "\n",
    "IN  = \"../data/curated/ecobici_model_ready.parquet\"\n",
    "OUT = \"../data/splits\"\n",
    "os.makedirs(OUT, exist_ok=True)\n",
    "\n",
    "df = pd.read_parquet(IN).sort_values([\"station_id\",\"ts_local\"])\n",
    "\n",
    "# Cortes por timestamp global (mantiene la cronología)\n",
    "ts_sorted = df[\"ts_local\"].sort_values().unique()\n",
    "n = len(ts_sorted)\n",
    "cut1 = ts_sorted[int(n*0.70)]\n",
    "cut2 = ts_sorted[int(n*0.85)]\n",
    "\n",
    "train = df[df[\"ts_local\"] <= cut1].copy()\n",
    "val   = df[(df[\"ts_local\"] > cut1) & (df[\"ts_local\"] <= cut2)].copy()\n",
    "test  = df[df[\"ts_local\"] > cut2].copy()\n",
    "\n",
    "train.to_parquet(f\"{OUT}/train.parquet\", index=False)\n",
    "val.to_parquet(f\"{OUT}/val.parquet\", index=False)\n",
    "test.to_parquet(f\"{OUT}/test.parquet\", index=False)\n",
    "\n",
    "print(\"train:\", train[\"ts_local\"].min(), \"→\", train[\"ts_local\"].max(), \"|\", len(train))\n",
    "print(\"val:  \", val[\"ts_local\"].min(),   \"→\", val[\"ts_local\"].max(),   \"|\", len(val))\n",
    "print(\"test: \", test[\"ts_local\"].min(),  \"→\", test[\"ts_local\"].max(),  \"|\", len(test))"
   ]
  },
  {
   "cell_type": "code",
   "execution_count": null,
   "id": "72e75ef2",
   "metadata": {},
   "outputs": [],
   "source": []
  }
 ],
 "metadata": {
  "kernelspec": {
   "display_name": "EcoBici (Py3.10)",
   "language": "python",
   "name": "ecobici_automl"
  },
  "language_info": {
   "codemirror_mode": {
    "name": "ipython",
    "version": 3
   },
   "file_extension": ".py",
   "mimetype": "text/x-python",
   "name": "python",
   "nbconvert_exporter": "python",
   "pygments_lexer": "ipython3",
   "version": "3.10.19"
  }
 },
 "nbformat": 4,
 "nbformat_minor": 5
}
