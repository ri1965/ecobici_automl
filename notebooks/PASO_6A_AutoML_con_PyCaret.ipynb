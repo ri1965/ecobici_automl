{
 "cells": [
  {
   "cell_type": "code",
   "execution_count": 1,
   "id": "9b40e148",
   "metadata": {},
   "outputs": [
    {
     "name": "stderr",
     "output_type": "stream",
     "text": [
      "2025/10/24 21:54:10 INFO mlflow.tracking.fluent: Experiment with name 'ecobici_pycaret_automl' does not exist. Creating a new experiment.\n"
     ]
    },
    {
     "data": {
      "text/plain": [
       "<Experiment: artifact_location='/Users/ri1965/Desktop/ecobici-automl/notebooks/mlruns/512746952719777776', creation_time=1761353650328, experiment_id='512746952719777776', last_update_time=1761353650328, lifecycle_stage='active', name='ecobici_pycaret_automl', tags={}>"
      ]
     },
     "execution_count": 1,
     "metadata": {},
     "output_type": "execute_result"
    }
   ],
   "source": [
    "# Celda 1 — Imports, paths y config\n",
    "import os, warnings\n",
    "warnings.filterwarnings(\"ignore\")\n",
    "\n",
    "import pandas as pd\n",
    "import numpy as np\n",
    "\n",
    "from sklearn.metrics import mean_squared_error, mean_absolute_error, r2_score\n",
    "from pycaret.regression import setup, compare_models, finalize_model, save_model, predict_model\n",
    "import mlflow\n",
    "\n",
    "# Paths\n",
    "TRAIN = \"../data/splits/train.parquet\"\n",
    "VAL   = \"../data/splits/val.parquet\"\n",
    "TEST  = \"../data/splits/test.parquet\"\n",
    "\n",
    "EXPORT_DIR  = \"../models/03A_pycaret\"\n",
    "REPORTS_DIR = \"../reports\"\n",
    "os.makedirs(EXPORT_DIR, exist_ok=True)\n",
    "os.makedirs(REPORTS_DIR, exist_ok=True)\n",
    "\n",
    "# Columnas clave\n",
    "Y_COL  = \"num_bikes_available\"\n",
    "ID_COL = \"station_id\"\n",
    "TS_COL = \"ts_local\"\n",
    "\n",
    "# MLflow local\n",
    "MLFLOW_TRACKING_URI = \"mlruns\"\n",
    "EXPERIMENT_NAME     = \"ecobici_pycaret_automl\"\n",
    "mlflow.set_tracking_uri(MLFLOW_TRACKING_URI)\n",
    "mlflow.set_experiment(EXPERIMENT_NAME)"
   ]
  },
  {
   "cell_type": "code",
   "execution_count": 2,
   "id": "a24c1b94",
   "metadata": {},
   "outputs": [
    {
     "name": "stdout",
     "output_type": "stream",
     "text": [
      "train: (152463, 30) val: (32774, 30) test: (32712, 30)\n"
     ]
    },
    {
     "data": {
      "text/html": [
       "<div>\n",
       "<style scoped>\n",
       "    .dataframe tbody tr th:only-of-type {\n",
       "        vertical-align: middle;\n",
       "    }\n",
       "\n",
       "    .dataframe tbody tr th {\n",
       "        vertical-align: top;\n",
       "    }\n",
       "\n",
       "    .dataframe thead th {\n",
       "        text-align: right;\n",
       "    }\n",
       "</style>\n",
       "<table border=\"1\" class=\"dataframe\">\n",
       "  <thead>\n",
       "    <tr style=\"text-align: right;\">\n",
       "      <th></th>\n",
       "      <th>station_id</th>\n",
       "      <th>ts_local</th>\n",
       "      <th>num_bikes_available</th>\n",
       "    </tr>\n",
       "  </thead>\n",
       "  <tbody>\n",
       "    <tr>\n",
       "      <th>0</th>\n",
       "      <td>2</td>\n",
       "      <td>2025-10-03 08:54:39-03:00</td>\n",
       "      <td>7</td>\n",
       "    </tr>\n",
       "    <tr>\n",
       "      <th>1</th>\n",
       "      <td>2</td>\n",
       "      <td>2025-10-03 08:57:40-03:00</td>\n",
       "      <td>7</td>\n",
       "    </tr>\n",
       "    <tr>\n",
       "      <th>2</th>\n",
       "      <td>2</td>\n",
       "      <td>2025-10-03 09:00:41-03:00</td>\n",
       "      <td>7</td>\n",
       "    </tr>\n",
       "    <tr>\n",
       "      <th>3</th>\n",
       "      <td>2</td>\n",
       "      <td>2025-10-03 09:03:42-03:00</td>\n",
       "      <td>7</td>\n",
       "    </tr>\n",
       "    <tr>\n",
       "      <th>4</th>\n",
       "      <td>2</td>\n",
       "      <td>2025-10-03 09:06:42-03:00</td>\n",
       "      <td>5</td>\n",
       "    </tr>\n",
       "  </tbody>\n",
       "</table>\n",
       "</div>"
      ],
      "text/plain": [
       "   station_id                  ts_local  num_bikes_available\n",
       "0           2 2025-10-03 08:54:39-03:00                    7\n",
       "1           2 2025-10-03 08:57:40-03:00                    7\n",
       "2           2 2025-10-03 09:00:41-03:00                    7\n",
       "3           2 2025-10-03 09:03:42-03:00                    7\n",
       "4           2 2025-10-03 09:06:42-03:00                    5"
      ]
     },
     "execution_count": 2,
     "metadata": {},
     "output_type": "execute_result"
    }
   ],
   "source": [
    "# Celda 2 — Cargar splits (sin más preprocesos: ya vienen listos del Paso 1)\n",
    "df_tr = pd.read_parquet(TRAIN)\n",
    "df_va = pd.read_parquet(VAL)\n",
    "df_te = pd.read_parquet(TEST) if os.path.exists(TEST) else pd.DataFrame()\n",
    "\n",
    "print(\"train:\", df_tr.shape, \"val:\", df_va.shape, \"test:\", df_te.shape if not df_te.empty else \"(no)\")\n",
    "df_tr[[ID_COL, TS_COL, Y_COL]].head()"
   ]
  },
  {
   "cell_type": "code",
   "execution_count": 6,
   "id": "491fae74",
   "metadata": {
    "scrolled": false
   },
   "outputs": [
    {
     "name": "stdout",
     "output_type": "stream",
     "text": [
      "Features numéricas usadas: 20\n",
      "Setup OK.\n"
     ]
    }
   ],
   "source": [
    "# Celda 3 — Configurar experimento en PyCaret (forzando solo features numéricas)\n",
    "\n",
    "# 1) orden temporal y tipado del target\n",
    "df_tr = df_tr.sort_values(TS_COL).reset_index(drop=True).copy()\n",
    "df_tr[Y_COL] = pd.to_numeric(df_tr[Y_COL], errors=\"coerce\")\n",
    "\n",
    "# 2) quedarnos SOLO con columnas numéricas (excluyendo ID y TS)\n",
    "num_feats = (\n",
    "    df_tr.select_dtypes(include=[\"number\"])\n",
    "         .columns.drop([c for c in [Y_COL, ID_COL] if c in df_tr.columns], errors=\"ignore\")\n",
    ")\n",
    "data_for_pycaret = df_tr[[Y_COL]].join(df_tr[num_feats]).copy()\n",
    "\n",
    "print(f\"Features numéricas usadas: {len(num_feats)}\")\n",
    "# 3) setup sin shuffle, validación temporal\n",
    "s = setup(\n",
    "    data=data_for_pycaret,\n",
    "    target=Y_COL,\n",
    "    session_id=42,\n",
    "    fold_strategy=\"timeseries\",\n",
    "    fold=3,\n",
    "    data_split_shuffle=False,\n",
    "    fold_shuffle=False,\n",
    "    # ya pasamos solo numéricas → no necesitamos ignorar más columnas\n",
    "    ignore_features=None,\n",
    "    normalize=False,\n",
    "    log_experiment=True,\n",
    "    experiment_name=EXPERIMENT_NAME,\n",
    "    html=False,\n",
    "    verbose=False\n",
    ")\n",
    "print(\"Setup OK.\")"
   ]
  },
  {
   "cell_type": "code",
   "execution_count": 8,
   "id": "3f204300",
   "metadata": {},
   "outputs": [
    {
     "name": "stderr",
     "output_type": "stream",
     "text": [
      "                                                                                \r"
     ]
    },
    {
     "name": "stdout",
     "output_type": "stream",
     "text": [
      "                                    Model     MAE      MSE    RMSE      R2  \\\n",
      "lr                      Linear Regression  0.0119   0.0122  0.0929  0.9995   \n",
      "ridge                    Ridge Regression  0.0118   0.0122  0.0929  0.9995   \n",
      "br                         Bayesian Ridge  0.0119   0.0122  0.0929  0.9995   \n",
      "xgboost         Extreme Gradient Boosting  0.1580   0.1421  0.3757  0.9940   \n",
      "lightgbm  Light Gradient Boosting Machine  0.1914   0.2186  0.4672  0.9908   \n",
      "et                  Extra Trees Regressor  0.2289   0.2318  0.4813  0.9903   \n",
      "rf                Random Forest Regressor  0.2625   0.2627  0.5124  0.9890   \n",
      "gbr           Gradient Boosting Regressor  0.2318   0.3369  0.5783  0.9859   \n",
      "omp           Orthogonal Matching Pursuit  0.2341   0.3610  0.5986  0.9849   \n",
      "lar                Least Angle Regression  0.4155   0.9977  0.6099  0.9595   \n",
      "llar         Lasso Least Angle Regression  0.3809   0.4157  0.6418  0.9826   \n",
      "lasso                    Lasso Regression  0.3809   0.4157  0.6418  0.9826   \n",
      "en                            Elastic Net  0.3924   0.4622  0.6774  0.9807   \n",
      "dt                Decision Tree Regressor  0.2942   0.5366  0.7318  0.9774   \n",
      "ada                    AdaBoost Regressor  0.8106   1.0567  1.0236  0.9558   \n",
      "huber                     Huber Regressor  2.4512  15.3103  3.1932  0.0222   \n",
      "dummy                     Dummy Regressor  4.0170  23.9697  4.8953 -0.0073   \n",
      "knn                 K Neighbors Regressor  3.9512  26.3445  5.1225 -0.1049   \n",
      "par          Passive Aggressive Regressor  4.9093  36.7107  6.0165 -0.5335   \n",
      "\n",
      "           RMSLE    MAPE  TT (Sec)  \n",
      "lr        0.0107  0.0028    2.8933  \n",
      "ridge     0.0105  0.0027    1.0033  \n",
      "br        0.0107  0.0028    0.1200  \n",
      "xgboost   0.0902  0.0429    3.2067  \n",
      "lightgbm  0.1217  0.0596    0.6100  \n",
      "et        0.1293  0.0616    1.1567  \n",
      "rf        0.1313  0.0672    2.3967  \n",
      "gbr       0.1588  0.0761    4.3400  \n",
      "omp       0.1698  0.0792    0.0700  \n",
      "lar       0.1295  0.1334    1.0167  \n",
      "llar      0.1800  0.1136    1.0367  \n",
      "lasso     0.1800  0.1136    1.0267  \n",
      "en        0.1885  0.1215    0.1067  \n",
      "dt        0.1686  0.0714    0.2200  \n",
      "ada       0.4027  0.2593    2.0433  \n",
      "huber     0.5614  0.5932    0.1800  \n",
      "dummy     0.9479  1.2197    0.0433  \n",
      "knn       0.9233  1.0398   11.5233  \n",
      "par       1.1451  1.4997    0.0833  \n",
      "Transformation Pipeline and Model Successfully Saved\n",
      "Modelo guardado en: ../models/03A_pycaret/pycaret_best_model\n"
     ]
    }
   ],
   "source": [
    "# Celda 4 — Comparar y elegir mejor modelo (AutoML)\n",
    "best = compare_models(sort=\"RMSE\")   # cambia la métrica si querés\n",
    "best_final = finalize_model(best)    # refit final sobre todo el train\n",
    "\n",
    "save_path = os.path.join(EXPORT_DIR, \"pycaret_best_model\")\n",
    "_ = save_model(best_final, save_path)  # PyCaret agrega sufijo\n",
    "print(\"Modelo guardado en:\", save_path)"
   ]
  },
  {
   "cell_type": "code",
   "execution_count": 9,
   "id": "1af88c8f",
   "metadata": {},
   "outputs": [
    {
     "name": "stdout",
     "output_type": "stream",
     "text": [
      "               Model     MAE     MSE    RMSE      R2   RMSLE    MAPE\n",
      "0  Linear Regression  0.1899  0.0375  0.1936  0.9985  0.0701  0.0583\n",
      "VALIDACIÓN → RMSE=0.1936 | MAE=0.1899 | R2=0.9985\n"
     ]
    },
    {
     "data": {
      "text/html": [
       "<div>\n",
       "<style scoped>\n",
       "    .dataframe tbody tr th:only-of-type {\n",
       "        vertical-align: middle;\n",
       "    }\n",
       "\n",
       "    .dataframe tbody tr th {\n",
       "        vertical-align: top;\n",
       "    }\n",
       "\n",
       "    .dataframe thead th {\n",
       "        text-align: right;\n",
       "    }\n",
       "</style>\n",
       "<table border=\"1\" class=\"dataframe\">\n",
       "  <thead>\n",
       "    <tr style=\"text-align: right;\">\n",
       "      <th></th>\n",
       "      <th>framework</th>\n",
       "      <th>split</th>\n",
       "      <th>rmse</th>\n",
       "      <th>mae</th>\n",
       "      <th>r2</th>\n",
       "    </tr>\n",
       "  </thead>\n",
       "  <tbody>\n",
       "    <tr>\n",
       "      <th>0</th>\n",
       "      <td>pycaret</td>\n",
       "      <td>val</td>\n",
       "      <td>0.193582</td>\n",
       "      <td>0.189921</td>\n",
       "      <td>0.998502</td>\n",
       "    </tr>\n",
       "  </tbody>\n",
       "</table>\n",
       "</div>"
      ],
      "text/plain": [
       "  framework split      rmse       mae        r2\n",
       "0   pycaret   val  0.193582  0.189921  0.998502"
      ]
     },
     "execution_count": 9,
     "metadata": {},
     "output_type": "execute_result"
    }
   ],
   "source": [
    "# Celda 5 — Evaluación externa en VALIDATION\n",
    "pred_val = predict_model(best_final, data=df_va.copy())\n",
    "y_true = df_va[Y_COL].astype(float).values\n",
    "y_hat  = pred_val[\"prediction_label\"].astype(float).values\n",
    "\n",
    "rmse = mean_squared_error(y_true, y_hat, squared=False)\n",
    "mae  = mean_absolute_error(y_true, y_hat)\n",
    "r2   = r2_score(y_true, y_hat)\n",
    "\n",
    "print(f\"VALIDACIÓN → RMSE={rmse:.4f} | MAE={mae:.4f} | R2={r2:.4f}\")\n",
    "\n",
    "# Guardar/actualizar tabla de métricas\n",
    "rep_path = os.path.join(REPORTS_DIR, \"automl_metrics_by_split.csv\")\n",
    "row = pd.DataFrame([{\"framework\":\"pycaret\", \"split\":\"val\", \"rmse\":rmse, \"mae\":mae, \"r2\":r2}])\n",
    "if os.path.exists(rep_path):\n",
    "    prev = pd.read_csv(rep_path)\n",
    "    row  = pd.concat([prev, row], ignore_index=True)\n",
    "row.to_csv(rep_path, index=False)\n",
    "row.tail(3)"
   ]
  },
  {
   "cell_type": "code",
   "execution_count": 10,
   "id": "95545f6f",
   "metadata": {},
   "outputs": [
    {
     "name": "stdout",
     "output_type": "stream",
     "text": [
      "               Model     MAE     MSE    RMSE      R2   RMSLE    MAPE\n",
      "0  Linear Regression  0.1895  0.0367  0.1916  0.9986  0.0742  0.0622\n",
      "TEST → RMSE=0.1916 | MAE=0.1895 | R2=0.9986\n"
     ]
    }
   ],
   "source": [
    "# Celda 6 — (Opcional) Evaluación externa en TEST\n",
    "if not df_te.empty:\n",
    "    pred_test = predict_model(best_final, data=df_te.copy())\n",
    "    yt = df_te[Y_COL].astype(float).values\n",
    "    yh = pred_test[\"prediction_label\"].astype(float).values\n",
    "\n",
    "    rmse_t = mean_squared_error(yt, yh, squared=False)\n",
    "    mae_t  = mean_absolute_error(yt, yh)\n",
    "    r2_t   = r2_score(yt, yh)\n",
    "\n",
    "    print(f\"TEST → RMSE={rmse_t:.4f} | MAE={mae_t:.4f} | R2={r2_t:.4f}\")\n",
    "\n",
    "    rep = pd.read_csv(rep_path) if os.path.exists(rep_path) else pd.DataFrame()\n",
    "    rep = pd.concat([rep, pd.DataFrame([{\"framework\":\"pycaret\",\"split\":\"test\",\"rmse\":rmse_t,\"mae\":mae_t,\"r2\":r2_t}])], ignore_index=True)\n",
    "    rep.to_csv(rep_path, index=False)\n",
    "    rep.tail(5)\n",
    "else:\n",
    "    print(\"No hay TEST → omitido.\")"
   ]
  },
  {
   "cell_type": "markdown",
   "id": "19f1f2da",
   "metadata": {},
   "source": [
    "### Celda 7 — Nota de integración con tu pipeline\n",
    "Salida clave:\n",
    "- Modelo PyCaret guardado en: models/03A_pycaret/pycaret_best_model*.pkl\n",
    "- Métricas en: reports/automl_metrics_by_split.csv\n",
    "- Runs en MLflow (usa: make mlflow-ui)\n",
    "\n",
    "Próximo:\n",
    "- (Etapa 7) Comparar contra baseline y FLAML (si corresponde), y registrar en MLflow Model Registry.\n",
    "- (Etapa 8) Integrar el mejor modelo en src/predict_batch.py para el dashboard.\n"
   ]
  },
  {
   "cell_type": "code",
   "execution_count": 14,
   "id": "215074d0",
   "metadata": {},
   "outputs": [
    {
     "name": "stdout",
     "output_type": "stream",
     "text": [
      "🧾 Resumen PyCaret AutoML\n",
      "{'best_MAE': 0.1895,\n",
      " 'best_R2': 0.9986,\n",
      " 'best_RMSE': 0.1916,\n",
      " 'best_model_class': 'LinearRegression',\n",
      " 'models_evaluated': 1,\n",
      " 'wall_time_sec': None}\n"
     ]
    },
    {
     "data": {
      "text/html": [
       "<div>\n",
       "<style scoped>\n",
       "    .dataframe tbody tr th:only-of-type {\n",
       "        vertical-align: middle;\n",
       "    }\n",
       "\n",
       "    .dataframe tbody tr th {\n",
       "        vertical-align: top;\n",
       "    }\n",
       "\n",
       "    .dataframe thead th {\n",
       "        text-align: right;\n",
       "    }\n",
       "</style>\n",
       "<table border=\"1\" class=\"dataframe\">\n",
       "  <thead>\n",
       "    <tr style=\"text-align: right;\">\n",
       "      <th></th>\n",
       "      <th>best_model_class</th>\n",
       "      <th>models_evaluated</th>\n",
       "      <th>best_RMSE</th>\n",
       "      <th>best_MAE</th>\n",
       "      <th>best_R2</th>\n",
       "      <th>wall_time_sec</th>\n",
       "    </tr>\n",
       "  </thead>\n",
       "  <tbody>\n",
       "    <tr>\n",
       "      <th>0</th>\n",
       "      <td>LinearRegression</td>\n",
       "      <td>1</td>\n",
       "      <td>0.1916</td>\n",
       "      <td>0.1895</td>\n",
       "      <td>0.9986</td>\n",
       "      <td>None</td>\n",
       "    </tr>\n",
       "  </tbody>\n",
       "</table>\n",
       "</div>"
      ],
      "text/plain": [
       "   best_model_class  models_evaluated  best_RMSE  best_MAE  best_R2  \\\n",
       "0  LinearRegression                 1     0.1916    0.1895   0.9986   \n",
       "\n",
       "  wall_time_sec  \n",
       "0          None  "
      ]
     },
     "execution_count": 14,
     "metadata": {},
     "output_type": "execute_result"
    }
   ],
   "source": [
    "# Celda 4c — Resumen PyCaret AutoML (muestra el estimador interno, métricas y tiempo)\n",
    "\n",
    "import os, re, datetime as dt\n",
    "import pandas as pd\n",
    "from pprint import pprint\n",
    "from pycaret.regression import pull, get_metrics\n",
    "\n",
    "summary = {}\n",
    "\n",
    "# --- 1) Modelo ganador: mostrar el ESTIMADOR interno (no el Pipeline)\n",
    "try:\n",
    "    winner_step = best_final.steps[-1][1]          # último step del pipeline\n",
    "    summary[\"best_model_class\"] = type(winner_step).__name__\n",
    "except Exception:\n",
    "    summary[\"best_model_class\"] = type(best_final).__name__\n",
    "\n",
    "# --- 2) Tabla de comparación (si la guardaste justo tras compare_models)\n",
    "#     Sugerencia en Celda 4 del notebook: después de compare_models(...) hacé:\n",
    "#         compare_results = pull().copy()\n",
    "compare_results = globals().get(\"compare_results\", None)\n",
    "\n",
    "# fallback: intentar que el último pull sea la tabla de comparación\n",
    "if compare_results is None:\n",
    "    try:\n",
    "        df_last = pull()\n",
    "        if isinstance(df_last, pd.DataFrame) and {\"Model\", \"RMSE\"}.issubset(df_last.columns):\n",
    "            compare_results = df_last.copy()\n",
    "    except Exception:\n",
    "        compare_results = None\n",
    "\n",
    "# --- 3) Métricas agregadas de la comparación (si existen)\n",
    "if isinstance(compare_results, pd.DataFrame) and not compare_results.empty:\n",
    "    summary[\"models_evaluated\"] = int(compare_results[\"Model\"].nunique())\n",
    "    summary[\"best_RMSE\"] = float(compare_results[\"RMSE\"].min()) if \"RMSE\" in compare_results.columns else None\n",
    "    summary[\"best_MAE\"]  = float(compare_results[\"MAE\"].min())  if \"MAE\"  in compare_results.columns else None\n",
    "    summary[\"best_R2\"]   = float(compare_results[\"R2\"].max())   if \"R2\"   in compare_results.columns else None\n",
    "else:\n",
    "    summary.update({\"models_evaluated\": None, \"best_RMSE\": None, \"best_MAE\": None, \"best_R2\": None})\n",
    "\n",
    "# --- 4) (Opcional) tiempo total estimado leyendo un log plano si existiera\n",
    "#     Si no generaste un log local, esto quedará en None (MLflow ya tiene tiempos exactos en la UI).\n",
    "log_path = os.path.join(EXPORT_DIR, f\"{EXPERIMENT_NAME}.log\") if \"EXPORT_DIR\" in globals() else None\n",
    "ts_pat = re.compile(r\"(?P<mm>\\d{2})-(?P<dd>\\d{2}) (?P<hh>\\d{2}):(?P<mi>\\d{2}):(?P<ss>\\d{2})\")\n",
    "year = dt.datetime.now().year\n",
    "t0 = t1 = None\n",
    "\n",
    "if log_path and os.path.exists(log_path):\n",
    "    with open(log_path, \"r\") as f:\n",
    "        lines = f.readlines()\n",
    "    for ln in lines:\n",
    "        m = ts_pat.search(ln)\n",
    "        if m:\n",
    "            t0 = dt.datetime(year, int(m[\"mm\"]), int(m[\"dd\"]), int(m[\"hh\"]), int(m[\"mi\"]), int(m[\"ss\"]))\n",
    "            break\n",
    "    for ln in reversed(lines):\n",
    "        m = ts_pat.search(ln)\n",
    "        if m:\n",
    "            t1 = dt.datetime(year, int(m[\"mm\"]), int(m[\"dd\"]), int(m[\"hh\"]), int(m[\"mi\"]), int(m[\"ss\"]))\n",
    "            break\n",
    "\n",
    "summary[\"wall_time_sec\"] = (t1 - t0).total_seconds() if (t0 and t1) else None\n",
    "\n",
    "print(\"🧾 Resumen PyCaret AutoML\")\n",
    "pprint(summary)\n",
    "\n",
    "# (Opcional) mostrar también en DataFrame\n",
    "pd.DataFrame([summary])"
   ]
  },
  {
   "cell_type": "code",
   "execution_count": null,
   "id": "ed308d21",
   "metadata": {},
   "outputs": [],
   "source": []
  }
 ],
 "metadata": {
  "kernelspec": {
   "display_name": "EcoBici (Py3.10)",
   "language": "python",
   "name": "ecobici_automl"
  },
  "language_info": {
   "codemirror_mode": {
    "name": "ipython",
    "version": 3
   },
   "file_extension": ".py",
   "mimetype": "text/x-python",
   "name": "python",
   "nbconvert_exporter": "python",
   "pygments_lexer": "ipython3",
   "version": "3.10.19"
  }
 },
 "nbformat": 4,
 "nbformat_minor": 5
}
