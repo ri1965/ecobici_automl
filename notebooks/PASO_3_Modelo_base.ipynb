{
 "cells": [
  {
   "cell_type": "markdown",
   "id": "4dbb4e07",
   "metadata": {},
   "source": [
    "# PASO 3 (simple y claro)\n",
    "\n",
    "Objetivo: entrenar un primer modelo base, medir en validación y (opcional) chequear test. Guardar métricas y el modelo."
   ]
  },
  {
   "cell_type": "code",
   "execution_count": 12,
   "id": "ed5078ab",
   "metadata": {},
   "outputs": [],
   "source": [
    "# Celda 1 — Imports y paths\n",
    "import os, json, joblib\n",
    "import pandas as pd\n",
    "import numpy as np\n",
    "\n",
    "from sklearn.ensemble import RandomForestRegressor\n",
    "from sklearn.metrics import mean_squared_error, mean_absolute_error, r2_score\n",
    "\n",
    "TRAIN   = \"../data/splits/train.parquet\"\n",
    "VAL     = \"../data/splits/val.parquet\"\n",
    "TEST    = \"../data/splits/test.parquet\"   # opcional\n",
    "OUT_DIR = \"../models/03D\"                  # <- nota: salimos un nivel si el notebook vive en notebooks/\n",
    "os.makedirs(OUT_DIR, exist_ok=True)\n",
    "os.makedirs(\"../reports\", exist_ok=True)   # idem\n",
    "\n",
    "# Config columnas\n",
    "Y_COL  = \"num_bikes_available\"\n",
    "ID_COL = \"station_id\"\n",
    "TS_COL = \"ts_local\""
   ]
  },
  {
   "cell_type": "code",
   "execution_count": 13,
   "id": "8c22bb3d",
   "metadata": {},
   "outputs": [],
   "source": [
    "# Celda 2 — Utilidades: expandir JSON-like y construir X/y\n",
    "\n",
    "def _looks_like_json_dict(s: str) -> bool:\n",
    "    s = str(s).strip()\n",
    "    return s.startswith(\"{\") and s.endswith(\"}\")\n",
    "\n",
    "def expand_json_like_columns(df: pd.DataFrame, exclude: list[str]) -> pd.DataFrame:\n",
    "    \"\"\"Detecta columnas object con dicts (JSON-like) y las expande a columnas numéricas.\"\"\"\n",
    "    df2 = df.copy()\n",
    "    obj_cols = [c for c in df2.columns if c not in exclude and df2[c].dtype == \"object\"]\n",
    "\n",
    "    for col in obj_cols:\n",
    "        sample = df2[col].dropna().astype(str).head(50)\n",
    "        if len(sample) == 0:\n",
    "            continue\n",
    "        if sample.map(_looks_like_json_dict).mean() >= 0.6:\n",
    "            def _parse(x):\n",
    "                try:\n",
    "                    d = json.loads(x) if isinstance(x, str) else x\n",
    "                    return d if isinstance(d, dict) else {}\n",
    "                except Exception:\n",
    "                    return {}\n",
    "            exp = df2[col].apply(_parse).apply(pd.Series)\n",
    "            if exp is not None and exp.shape[1] > 0:\n",
    "                exp = exp.add_prefix(f\"{col}_\")\n",
    "                for c in exp.columns:\n",
    "                    exp[c] = pd.to_numeric(exp[c], errors=\"coerce\").fillna(0.0)\n",
    "                df2 = pd.concat([df2.drop(columns=[col]), exp], axis=1)\n",
    "    return df2\n",
    "\n",
    "def make_X_y(df: pd.DataFrame, y_col: str, id_col: str, ts_col: str):\n",
    "    # remover columnas que no son features\n",
    "    drop_cols = [c for c in [y_col, id_col, ts_col] if c in df.columns]\n",
    "    X = df.drop(columns=drop_cols, errors=\"ignore\").copy()\n",
    "\n",
    "    # expandir JSON-like\n",
    "    X = expand_json_like_columns(X, exclude=[])\n",
    "\n",
    "    # one-hot de baja cardinalidad (<=20 categorías)\n",
    "    low_card = [c for c in X.columns if X[c].dtype == \"object\" and X[c].nunique(dropna=True) <= 20]\n",
    "    if low_card:\n",
    "        X = pd.get_dummies(X, columns=low_card, drop_first=True)\n",
    "\n",
    "    # quedarnos solo con numéricas\n",
    "    X = X.select_dtypes(include=[\"number\"]).copy().fillna(0.0)\n",
    "\n",
    "    y = df[y_col].astype(float).copy()\n",
    "    return X, y"
   ]
  },
  {
   "cell_type": "code",
   "execution_count": 14,
   "id": "9adba1ae",
   "metadata": {},
   "outputs": [
    {
     "name": "stdout",
     "output_type": "stream",
     "text": [
      "Shapes → (152463, 22) (32774, 22)\n",
      "Ejemplo de columnas: ['num_bikes_disabled', 'num_docks_available', 'num_docks_disabled', 'last_reported', 'is_installed', 'is_renting', 'is_returning', '_file_last_updated', 'lat', 'lon']\n"
     ]
    }
   ],
   "source": [
    "# Celda 3 — Cargar datos y armar X/y\n",
    "df_tr = pd.read_parquet(TRAIN)\n",
    "df_va = pd.read_parquet(VAL)\n",
    "\n",
    "Xtr, ytr = make_X_y(df_tr, Y_COL, ID_COL, TS_COL)\n",
    "Xva, yva = make_X_y(df_va, Y_COL, ID_COL, TS_COL)\n",
    "\n",
    "print(\"Shapes →\", Xtr.shape, Xva.shape)\n",
    "print(\"Ejemplo de columnas:\", list(Xtr.columns)[:10])"
   ]
  },
  {
   "cell_type": "code",
   "execution_count": 15,
   "id": "4a9f2183",
   "metadata": {},
   "outputs": [
    {
     "name": "stdout",
     "output_type": "stream",
     "text": [
      "Baseline lag1 → RMSE=0.7243 | MAE=0.2318 | R2=0.9790\n"
     ]
    },
    {
     "name": "stderr",
     "output_type": "stream",
     "text": [
      "/Users/ri1965/anaconda3/envs/ecobici_automl/lib/python3.10/site-packages/sklearn/metrics/_regression.py:483: FutureWarning: 'squared' is deprecated in version 1.4 and will be removed in 1.6. To calculate the root mean squared error, use the function'root_mean_squared_error'.\n",
      "  warnings.warn(\n"
     ]
    }
   ],
   "source": [
    "# Celda 4 — Baseline rápido (naive lag1 si está disponible)\n",
    "baseline_rmse = baseline_mae = baseline_r2 = None\n",
    "if \"y_lag1\" in Xva.columns:\n",
    "    yhat_base = Xva[\"y_lag1\"].values\n",
    "    baseline_rmse = mean_squared_error(yva, yhat_base, squared=False)\n",
    "    baseline_mae  = mean_absolute_error(yva, yhat_base)\n",
    "    baseline_r2   = r2_score(yva, yhat_base)\n",
    "    print(f\"Baseline lag1 → RMSE={baseline_rmse:.4f} | MAE={baseline_mae:.4f} | R2={baseline_r2:.4f}\")\n",
    "else:\n",
    "    print(\"No se encontró 'y_lag1' en features de validación: salto baseline.\")"
   ]
  },
  {
   "cell_type": "code",
   "execution_count": 16,
   "id": "dc944d1f",
   "metadata": {},
   "outputs": [
    {
     "name": "stdout",
     "output_type": "stream",
     "text": [
      "VAL → RMSE=0.0267 | MAE=0.0004 | R2=1.0000\n",
      "(Comparado baseline lag1 RMSE=0.7243)\n"
     ]
    },
    {
     "name": "stderr",
     "output_type": "stream",
     "text": [
      "/Users/ri1965/anaconda3/envs/ecobici_automl/lib/python3.10/site-packages/sklearn/metrics/_regression.py:483: FutureWarning: 'squared' is deprecated in version 1.4 and will be removed in 1.6. To calculate the root mean squared error, use the function'root_mean_squared_error'.\n",
      "  warnings.warn(\n"
     ]
    }
   ],
   "source": [
    "# Celda 5 — Entrenar modelo base (RF)\n",
    "SEED = 42\n",
    "rf = RandomForestRegressor(\n",
    "    n_estimators=300,\n",
    "    max_depth=None,\n",
    "    min_samples_split=2,\n",
    "    random_state=SEED,\n",
    "    n_jobs=-1\n",
    ")\n",
    "rf.fit(Xtr, ytr)\n",
    "\n",
    "pred_val = rf.predict(Xva)\n",
    "rmse = mean_squared_error(yva, pred_val, squared=False)\n",
    "mae  = mean_absolute_error(yva, pred_val)\n",
    "r2   = r2_score(yva, pred_val)\n",
    "\n",
    "print(f\"VAL → RMSE={rmse:.4f} | MAE={mae:.4f} | R2={r2:.4f}\")\n",
    "if baseline_rmse is not None:\n",
    "    print(f\"(Comparado baseline lag1 RMSE={baseline_rmse:.4f})\")"
   ]
  },
  {
   "cell_type": "code",
   "execution_count": 17,
   "id": "446b53ee",
   "metadata": {},
   "outputs": [
    {
     "name": "stdout",
     "output_type": "stream",
     "text": [
      "TEST → RMSE=0.3729 | MAE=0.0197 | R2=0.9946\n"
     ]
    },
    {
     "name": "stderr",
     "output_type": "stream",
     "text": [
      "/Users/ri1965/anaconda3/envs/ecobici_automl/lib/python3.10/site-packages/sklearn/metrics/_regression.py:483: FutureWarning: 'squared' is deprecated in version 1.4 and will be removed in 1.6. To calculate the root mean squared error, use the function'root_mean_squared_error'.\n",
      "  warnings.warn(\n"
     ]
    }
   ],
   "source": [
    "# Celda 6 — (Opcional) Medir en TEST\n",
    "rows = [{\"split\":\"val\",\"rmse\":rmse,\"mae\":mae,\"r2\":r2}]\n",
    "if baseline_rmse is not None:\n",
    "    rows.append({\"split\":\"baseline_lag1\",\"rmse\":baseline_rmse,\"mae\":baseline_mae,\"r2\":baseline_r2})\n",
    "\n",
    "if os.path.exists(TEST):\n",
    "    df_te = pd.read_parquet(TEST)\n",
    "    Xt, yt = make_X_y(df_te, Y_COL, ID_COL, TS_COL)\n",
    "    pred_t = rf.predict(Xt)\n",
    "    rmse_t = mean_squared_error(yt, pred_t, squared=False)\n",
    "    mae_t  = mean_absolute_error(yt, pred_t)\n",
    "    r2_t   = r2_score(yt, pred_t)\n",
    "    rows.append({\"split\":\"test\",\"rmse\":rmse_t,\"mae\":mae_t,\"r2\":r2_t})\n",
    "    print(f\"TEST → RMSE={rmse_t:.4f} | MAE={mae_t:.4f} | R2={r2_t:.4f}\")"
   ]
  },
  {
   "cell_type": "code",
   "execution_count": 18,
   "id": "00ad1feb",
   "metadata": {},
   "outputs": [
    {
     "name": "stdout",
     "output_type": "stream",
     "text": [
      "           split      rmse       mae        r2\n",
      "0            val  0.026665  0.000376  0.999972\n",
      "1  baseline_lag1  0.724330  0.231800  0.979021\n",
      "2           test  0.372856  0.019723  0.994630\n",
      "Modelo guardado en: ../models/03D/best_model.pkl\n",
      "Feature importance guardada en: ../reports/feature_importance_rf.csv\n"
     ]
    }
   ],
   "source": [
    "# Celda 7 — Guardar métricas, modelo e importancia de variables\n",
    "rep = pd.DataFrame(rows)\n",
    "rep.to_csv(\"../reports/metrics_by_split.csv\", index=False)\n",
    "print(rep)\n",
    "\n",
    "model_path = os.path.join(OUT_DIR, \"best_model.pkl\")\n",
    "joblib.dump(rf, model_path)\n",
    "print(f\"Modelo guardado en: {model_path}\")\n",
    "\n",
    "# Importancia de variables (si disponible)\n",
    "fi_path = \"../reports/feature_importance_rf.csv\"\n",
    "if hasattr(rf, \"feature_importances_\"):\n",
    "    fi = pd.Series(rf.feature_importances_, index=Xtr.columns).sort_values(ascending=False)\n",
    "    fi.to_csv(fi_path, header=[\"importance\"])\n",
    "    print(f\"Feature importance guardada en: {fi_path}\")\n",
    "else:\n",
    "    print(\"El modelo no expone feature_importances_.\")"
   ]
  },
  {
   "cell_type": "code",
   "execution_count": null,
   "id": "4720adce",
   "metadata": {},
   "outputs": [],
   "source": []
  }
 ],
 "metadata": {
  "kernelspec": {
   "display_name": "EcoBici (Py3.10)",
   "language": "python",
   "name": "ecobici_automl"
  },
  "language_info": {
   "codemirror_mode": {
    "name": "ipython",
    "version": 3
   },
   "file_extension": ".py",
   "mimetype": "text/x-python",
   "name": "python",
   "nbconvert_exporter": "python",
   "pygments_lexer": "ipython3",
   "version": "3.10.19"
  }
 },
 "nbformat": 4,
 "nbformat_minor": 5
}
