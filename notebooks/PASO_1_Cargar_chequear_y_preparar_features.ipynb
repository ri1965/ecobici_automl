{
 "cells": [
  {
   "cell_type": "markdown",
   "id": "db595ec7",
   "metadata": {},
   "source": [
    "# PASO 1 — Cargar, chequear y preparar features "
   ]
  },
  {
   "cell_type": "code",
   "execution_count": 11,
   "id": "68f8474d",
   "metadata": {},
   "outputs": [],
   "source": [
    "# === Celda 1: imports y paths ===\n",
    "import os\n",
    "import pandas as pd\n",
    "import numpy as np\n",
    "\n",
    "RAW = \"../data/raw/status_clean.parquet\"\n",
    "OUT = \"../data/curated/ecobici_model_ready.parquet\"\n",
    "\n",
    "assert os.path.exists(RAW), f\"No existe {RAW}\"\n"
   ]
  },
  {
   "cell_type": "code",
   "execution_count": 12,
   "id": "3fba602b",
   "metadata": {},
   "outputs": [
    {
     "name": "stdout",
     "output_type": "stream",
     "text": [
      "Shape: (219128, 21)\n",
      "Cols: ['station_id', 'num_bikes_available', 'num_bikes_available_types', 'num_bikes_disabled', 'num_docks_available', 'num_docks_disabled', 'last_reported', 'is_charging_station', 'status', 'is_installed', 'is_renting', 'is_returning', 'traffic', '_file_last_updated', 'ts_local', 'name', 'lat', 'lon', 'capacity', 'address', 'is_closed']\n",
      "    station_id                  ts_local  num_bikes_available\n",
      "0          101 2025-10-03 08:46:42-03:00                    3\n",
      "2          101 2025-10-03 08:49:43-03:00                    3\n",
      "5          101 2025-10-03 08:52:43-03:00                    3\n",
      "7          101 2025-10-03 08:55:45-03:00                    2\n",
      "10         101 2025-10-03 08:58:45-03:00                    2\n"
     ]
    }
   ],
   "source": [
    "# === Celda 2: lectura y chequeos mínimos ===\n",
    "df = pd.read_parquet(RAW)\n",
    "\n",
    "# Recomendado: estos nombres suelen estar (ajustá si difieren)\n",
    "CAND_TS = \"ts_local\"\n",
    "CAND_ID = \"station_id\"\n",
    "CAND_Y  = \"num_bikes_available\"   # <-- si tu target se llama distinto, cámbialo aquí\n",
    "\n",
    "# Parseo de timestamp\n",
    "if CAND_TS in df.columns:\n",
    "    df[CAND_TS] = pd.to_datetime(df[CAND_TS], errors=\"coerce\")\n",
    "\n",
    "# Orden temporal y limpieza básica\n",
    "df = df.sort_values([CAND_ID, CAND_TS]).reset_index(drop=True)\n",
    "df = df.drop_duplicates(subset=[CAND_ID, CAND_TS])\n",
    "\n",
    "# Normalizar station_id (todo int si se puede)\n",
    "def _coerce_station_id_dtype(s):\n",
    "    s = s.astype(str)\n",
    "    if s.str.fullmatch(r\"\\d+\").all():\n",
    "        return pd.to_numeric(s, errors=\"coerce\").astype(\"Int64\")\n",
    "    return s\n",
    "df[CAND_ID] = _coerce_station_id_dtype(df[CAND_ID])\n",
    "\n",
    "# Reporte rápido\n",
    "print(\"Shape:\", df.shape)\n",
    "print(\"Cols:\", df.columns.tolist())\n",
    "print(df[[CAND_ID, CAND_TS, CAND_Y]].head())"
   ]
  },
  {
   "cell_type": "code",
   "execution_count": 13,
   "id": "eff16c24",
   "metadata": {},
   "outputs": [
    {
     "name": "stdout",
     "output_type": "stream",
     "text": [
      "Después de features: (217949, 30)\n"
     ]
    }
   ],
   "source": [
    "# === Celda 3: features mínimas sin fuga ===\n",
    "# Señales temporales\n",
    "df[\"hour\"]      = df[CAND_TS].dt.hour\n",
    "df[\"dow\"]       = df[CAND_TS].dt.dayofweek      # 0=Lunes\n",
    "df[\"is_weekend\"]= df[\"dow\"].isin([5,6]).astype(int)\n",
    "df[\"month\"]     = df[CAND_TS].dt.month\n",
    "\n",
    "# Cíclicas (opcional y útil)\n",
    "df[\"hour_sin\"]  = np.sin(2*np.pi*df[\"hour\"]/24)\n",
    "df[\"hour_cos\"]  = np.cos(2*np.pi*df[\"hour\"]/24)\n",
    "\n",
    "# Lags y rolling por estación (evita fuga agrupando)\n",
    "df[\"y_lag1\"] = df.groupby(CAND_ID)[CAND_Y].shift(1)\n",
    "df[\"y_lag2\"] = df.groupby(CAND_ID)[CAND_Y].shift(2)\n",
    "df[\"y_ma3\"]  = (df.groupby(CAND_ID)[CAND_Y]\n",
    "                  .transform(lambda s: s.shift(1).rolling(3).mean()))  # media móvil usando info previa\n",
    "\n",
    "# (Opc) clip/llenado conservador: NO rellenar target; sí features derivadas si deseas\n",
    "for c in [\"y_lag1\",\"y_lag2\",\"y_ma3\"]:\n",
    "    df[c] = df[c].astype(float)\n",
    "\n",
    "# Drop filas sin lags (primeras por estación)\n",
    "min_lags = df[[\"y_lag1\",\"y_lag2\",\"y_ma3\"]].isna().any(axis=1)\n",
    "df_model = df.loc[~min_lags].copy()\n",
    "\n",
    "print(\"Después de features:\", df_model.shape)"
   ]
  },
  {
   "cell_type": "code",
   "execution_count": 4,
   "id": "dd23593a",
   "metadata": {},
   "outputs": [
    {
     "name": "stdout",
     "output_type": "stream",
     "text": [
      "Guardado: ../data/curated/ecobici_model_ready.parquet\n"
     ]
    }
   ],
   "source": [
    "# === Celda 4: guardar dataset canónico de modelado ===\n",
    "os.makedirs(os.path.dirname(OUT), exist_ok=True)\n",
    "df_model.to_parquet(OUT, index=False)\n",
    "print(f\"Guardado: {OUT}\")"
   ]
  },
  {
   "cell_type": "code",
   "execution_count": null,
   "id": "efb65198",
   "metadata": {
    "scrolled": false
   },
   "outputs": [],
   "source": []
  },
  {
   "cell_type": "code",
   "execution_count": 14,
   "id": "8a25b272",
   "metadata": {},
   "outputs": [
    {
     "name": "stdout",
     "output_type": "stream",
     "text": [
      "3\n"
     ]
    }
   ],
   "source": [
    "# Para el df['ts_local']\n",
    "df['ts_local'] = pd.to_datetime(df['ts_local'])\n",
    "\n",
    "# Extraer solo la fecha (sin hora)\n",
    "df['fecha'] = df['ts_local'].dt.date\n",
    "\n",
    "# Contar días distintos\n",
    "dias_distintos = df['fecha'].nunique()\n",
    "print(dias_distintos)"
   ]
  },
  {
   "cell_type": "code",
   "execution_count": 15,
   "id": "dfb69a20",
   "metadata": {},
   "outputs": [
    {
     "data": {
      "text/plain": [
       "array([datetime.date(2025, 10, 3), datetime.date(2025, 10, 5),\n",
       "       datetime.date(2025, 10, 6)], dtype=object)"
      ]
     },
     "execution_count": 15,
     "metadata": {},
     "output_type": "execute_result"
    }
   ],
   "source": [
    "df['fecha'].unique()"
   ]
  },
  {
   "cell_type": "code",
   "execution_count": null,
   "id": "99ed8456",
   "metadata": {},
   "outputs": [],
   "source": []
  }
 ],
 "metadata": {
  "kernelspec": {
   "display_name": "EcoBici (Py3.10)",
   "language": "python",
   "name": "ecobici_automl"
  },
  "language_info": {
   "codemirror_mode": {
    "name": "ipython",
    "version": 3
   },
   "file_extension": ".py",
   "mimetype": "text/x-python",
   "name": "python",
   "nbconvert_exporter": "python",
   "pygments_lexer": "ipython3",
   "version": "3.10.19"
  }
 },
 "nbformat": 4,
 "nbformat_minor": 5
}
